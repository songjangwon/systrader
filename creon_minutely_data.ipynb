{
 "cells": [
  {
   "cell_type": "code",
   "execution_count": 1,
   "metadata": {},
   "outputs": [],
   "source": [
    "# You must run Jupyter lab as admin, otherwise Cybos object connection will fail.\n",
    "import datetime\n",
    "import time\n",
    "import logging\n",
    "from logging.handlers import TimedRotatingFileHandler\n",
    "\n",
    "import win32com.client\n",
    "import pandas as pd"
   ]
  },
  {
   "cell_type": "code",
   "execution_count": 2,
   "metadata": {},
   "outputs": [],
   "source": [
    "# 로그 파일 핸들러\n",
    "fh_log = TimedRotatingFileHandler(\"logs/log\", when=\"midnight\", encoding=\"utf-8\", backupCount=120)\n",
    "fh_log.setLevel(logging.INFO)\n",
    "#fh_log.setLevel(logging.DEBUG)\n",
    "\n",
    "# 콘솔 핸들러\n",
    "sh = logging.StreamHandler()\n",
    "#sh.setLevel(logging.DEBUG)\n",
    "sh.setLevel(logging.INFO)\n",
    "\n",
    "# 로깅 포멧 설정\n",
    "formatter = logging.Formatter(\"[%(asctime)s][%(levelname)s] %(message)s\")\n",
    "fh_log.setFormatter(formatter)\n",
    "sh.setFormatter(formatter)\n",
    "\n",
    "# 로거 생성\n",
    "logger = logging.getLogger(\"creon\")\n",
    "logger.setLevel(logging.INFO)\n",
    "# logger.setLevel(logging.DEBUG)\n",
    "logger.addHandler(fh_log)\n",
    "logger.addHandler(sh)"
   ]
  },
  {
   "cell_type": "code",
   "execution_count": 11,
   "metadata": {},
   "outputs": [],
   "source": [
    "class Creon:\n",
    "    def __init__(self):\n",
    "        self.obj_CpCodeMgr = win32com.client.Dispatch('CpUtil.CpCodeMgr')\n",
    "        self.obj_CpCybos = win32com.client.Dispatch('CpUtil.CpCybos')\n",
    "        self.obj_StockChart = win32com.client.Dispatch(\"CpSysDib.StockChart\")\n",
    "\n",
    "    def creon_7400_주식차트조회(self, code, date_from, date_to):\n",
    "        \"\"\"\n",
    "        http://money2.creontrade.com/e5/mboard/ptype_basic/HTS_Plus_Helper/DW_Basic_Read_Page.aspx?boardseq=284&seq=102&page=1&searchString=StockChart&p=8841&v=8643&m=9505\n",
    "        date_from and date_to seems for for both str and int types.\n",
    "        e.g., 20190830 or \"20190830\", they work the same.\n",
    "        :return:\n",
    "        \"\"\"\n",
    "        b_connected = self.obj_CpCybos.IsConnect\n",
    "        if b_connected == 0:\n",
    "            logger.critical(\"연결 실패\")\n",
    "            return None\n",
    "\n",
    "        list_field_key = [0, 1, 2, 3, 4, 5, 8]\n",
    "        list_field_name = ['date', 'time', 'open', 'high', 'low', 'close', 'volume']\n",
    "        dict_chart = {name: [] for name in list_field_name}\n",
    "\n",
    "        while True:\n",
    "            self.obj_StockChart.SetInputValue(0, f'A{code}')\n",
    "            self.obj_StockChart.SetInputValue(1, ord('1'))  # 0: 개수, 1: 기간\n",
    "            self.obj_StockChart.SetInputValue(2, date_to)  # 종료일\n",
    "            self.obj_StockChart.SetInputValue(3, date_from)  # 시작일\n",
    "            self.obj_StockChart.SetInputValue(4, 100)  # 요청 개수\n",
    "            self.obj_StockChart.SetInputValue(5, list_field_key)  # 필드\n",
    "            self.obj_StockChart.SetInputValue(6, ord('m'))  # 'D', 'W', 'M', 'm', 'T'\n",
    "            self.obj_StockChart.BlockRequest()\n",
    "\n",
    "            status = self.obj_StockChart.GetDibStatus()\n",
    "            msg = self.obj_StockChart.GetDibMsg1()\n",
    "            logger.debug(\"통신상태: {} {}\".format(status, msg))\n",
    "            if status != 0:\n",
    "                return None\n",
    "\n",
    "            cnt = self.obj_StockChart.GetHeaderValue(3)  # 수신개수\n",
    "            for i in range(cnt):\n",
    "                dict_item = {name: self.obj_StockChart.GetDataValue(pos, i) for pos, name in zip(range(len(list_field_name)), list_field_name)}\n",
    "                for k, v in dict_item.items():\n",
    "                    dict_chart[k].append(v)\n",
    "\n",
    "            if not self.obj_StockChart.Continue:\n",
    "                break\n",
    "            self._wait()\n",
    "\n",
    "        logger.debug(\"차트: {} {}\".format(cnt, dict_chart))\n",
    "        return pd.DataFrame(dict_chart, columns=list_field_name)\n",
    "\n",
    "    def _wait(self):\n",
    "        time_remained = self.obj_CpCybos.LimitRequestRemainTime\n",
    "        cnt_remained = self.obj_CpCybos.GetLimitRemainCount(1)  # 0: 주문 관련, 1: 시세 요청 관련, 2: 실시간 요청 관련\n",
    "        if cnt_remained <= 0:\n",
    "            timeStart = time.time()\n",
    "            while cnt_remained <= 0:\n",
    "                time.sleep(time_remained / 1000)\n",
    "                time_remained = self.obj_CpCybos.LimitRequestRemainTime\n",
    "                cnt_remained = self.obj_CpCybos.GetLimitRemainCount(1)"
   ]
  },
  {
   "cell_type": "code",
   "execution_count": 13,
   "metadata": {},
   "outputs": [],
   "source": [
    "creon = Creon()"
   ]
  },
  {
   "cell_type": "code",
   "execution_count": 5,
   "metadata": {},
   "outputs": [],
   "source": [
    "result = creon.creon_7400_주식차트조회('233740', 20190905, 20190905)"
   ]
  },
  {
   "cell_type": "code",
   "execution_count": 6,
   "metadata": {},
   "outputs": [
    {
     "data": {
      "text/plain": [
       "381"
      ]
     },
     "execution_count": 6,
     "metadata": {},
     "output_type": "execute_result"
    }
   ],
   "source": [
    "len(result)"
   ]
  },
  {
   "cell_type": "code",
   "execution_count": 7,
   "metadata": {},
   "outputs": [
    {
     "data": {
      "text/plain": [
       "pandas.core.frame.DataFrame"
      ]
     },
     "execution_count": 7,
     "metadata": {},
     "output_type": "execute_result"
    }
   ],
   "source": [
    "type(result)"
   ]
  },
  {
   "cell_type": "code",
   "execution_count": 8,
   "metadata": {},
   "outputs": [
    {
     "data": {
      "text/html": [
       "<div>\n",
       "<style scoped>\n",
       "    .dataframe tbody tr th:only-of-type {\n",
       "        vertical-align: middle;\n",
       "    }\n",
       "\n",
       "    .dataframe tbody tr th {\n",
       "        vertical-align: top;\n",
       "    }\n",
       "\n",
       "    .dataframe thead th {\n",
       "        text-align: right;\n",
       "    }\n",
       "</style>\n",
       "<table border=\"1\" class=\"dataframe\">\n",
       "  <thead>\n",
       "    <tr style=\"text-align: right;\">\n",
       "      <th></th>\n",
       "      <th>date</th>\n",
       "      <th>time</th>\n",
       "      <th>open</th>\n",
       "      <th>high</th>\n",
       "      <th>low</th>\n",
       "      <th>close</th>\n",
       "      <th>volume</th>\n",
       "    </tr>\n",
       "  </thead>\n",
       "  <tbody>\n",
       "    <tr>\n",
       "      <th>0</th>\n",
       "      <td>20190905</td>\n",
       "      <td>1530</td>\n",
       "      <td>7240</td>\n",
       "      <td>7240</td>\n",
       "      <td>7240</td>\n",
       "      <td>7240</td>\n",
       "      <td>445439</td>\n",
       "    </tr>\n",
       "    <tr>\n",
       "      <th>1</th>\n",
       "      <td>20190905</td>\n",
       "      <td>1520</td>\n",
       "      <td>7225</td>\n",
       "      <td>7230</td>\n",
       "      <td>7215</td>\n",
       "      <td>7225</td>\n",
       "      <td>68706</td>\n",
       "    </tr>\n",
       "    <tr>\n",
       "      <th>2</th>\n",
       "      <td>20190905</td>\n",
       "      <td>1519</td>\n",
       "      <td>7220</td>\n",
       "      <td>7230</td>\n",
       "      <td>7220</td>\n",
       "      <td>7220</td>\n",
       "      <td>95360</td>\n",
       "    </tr>\n",
       "    <tr>\n",
       "      <th>3</th>\n",
       "      <td>20190905</td>\n",
       "      <td>1518</td>\n",
       "      <td>7220</td>\n",
       "      <td>7225</td>\n",
       "      <td>7215</td>\n",
       "      <td>7225</td>\n",
       "      <td>48369</td>\n",
       "    </tr>\n",
       "    <tr>\n",
       "      <th>4</th>\n",
       "      <td>20190905</td>\n",
       "      <td>1517</td>\n",
       "      <td>7220</td>\n",
       "      <td>7225</td>\n",
       "      <td>7215</td>\n",
       "      <td>7220</td>\n",
       "      <td>47957</td>\n",
       "    </tr>\n",
       "  </tbody>\n",
       "</table>\n",
       "</div>"
      ],
      "text/plain": [
       "       date  time  open  high   low  close  volume\n",
       "0  20190905  1530  7240  7240  7240   7240  445439\n",
       "1  20190905  1520  7225  7230  7215   7225   68706\n",
       "2  20190905  1519  7220  7230  7220   7220   95360\n",
       "3  20190905  1518  7220  7225  7215   7225   48369\n",
       "4  20190905  1517  7220  7225  7215   7220   47957"
      ]
     },
     "execution_count": 8,
     "metadata": {},
     "output_type": "execute_result"
    }
   ],
   "source": [
    "result.head(5)"
   ]
  },
  {
   "cell_type": "code",
   "execution_count": 34,
   "metadata": {},
   "outputs": [],
   "source": [
    "def dump_date(creon, symbol, datestr):\n",
    "    df = creon.creon_7400_주식차트조회(symbol, datestr, datestr)\n",
    "    ofname = datestr + \".csv\"\n",
    "    df.to_csv(ofname)\n",
    "    print(\"Wrote\", ofname)"
   ]
  },
  {
   "cell_type": "code",
   "execution_count": 38,
   "metadata": {},
   "outputs": [],
   "source": [
    "def daterange(start_date, end_date):\n",
    "    for n in range(int ((end_date - start_date).days)):\n",
    "        yield start_date + datetime.timedelta(n)"
   ]
  },
  {
   "cell_type": "code",
   "execution_count": 35,
   "metadata": {},
   "outputs": [],
   "source": [
    "start_date = datetime.date(2018, 1, 1)"
   ]
  },
  {
   "cell_type": "code",
   "execution_count": 36,
   "metadata": {},
   "outputs": [],
   "source": [
    "end_date = datetime.date(2019, 8, 31)"
   ]
  },
  {
   "cell_type": "code",
   "execution_count": null,
   "metadata": {},
   "outputs": [],
   "source": [
    "for date in daterange(start_date, end_date):\n",
    "    if date.weekday() <= 4:  # Mon to Fri\n",
    "        datestr = date.strftime(\"%Y%m%d\")\n",
    "        dump_date(creon, \"251340\", datestr)\n",
    "        time.sleep(1)"
   ]
  },
  {
   "cell_type": "code",
   "execution_count": null,
   "metadata": {},
   "outputs": [],
   "source": []
  }
 ],
 "metadata": {
  "kernelspec": {
   "display_name": "Python 3",
   "language": "python",
   "name": "python3"
  },
  "language_info": {
   "codemirror_mode": {
    "name": "ipython",
    "version": 3
   },
   "file_extension": ".py",
   "mimetype": "text/x-python",
   "name": "python",
   "nbconvert_exporter": "python",
   "pygments_lexer": "ipython3",
   "version": "3.7.1"
  }
 },
 "nbformat": 4,
 "nbformat_minor": 2
}
